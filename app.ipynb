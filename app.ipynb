{
 "cells": [
  {
   "cell_type": "code",
   "execution_count": 1,
   "metadata": {},
   "outputs": [],
   "source": [
    "from openai import OpenAI\n",
    "import config  # 导入您的配置文件"
   ]
  },
  {
   "cell_type": "code",
   "execution_count": 2,
   "metadata": {},
   "outputs": [],
   "source": [
    "word = \"laut\""
   ]
  },
  {
   "cell_type": "code",
   "execution_count": 3,
   "metadata": {},
   "outputs": [],
   "source": [
    "client = OpenAI(\n",
    "    api_key=config.OPENAI_API_KEY,  # 这是默认值，可以省略\n",
    ")\n"
   ]
  },
  {
   "cell_type": "code",
   "execution_count": 4,
   "metadata": {},
   "outputs": [],
   "source": [
    "chat_completion = client.chat.completions.create(\n",
    "    messages=[\n",
    "        {\n",
    "            \"role\": \"user\",\n",
    "            \"content\": f\"\"\"You are an expert in teaching German vocabulary. You will be given the Input'{word}'. Provide a JSON-like explanation of the Input using these rules:\n",
    "                                                        1. Input Handling:\n",
    "                                                        - If the Input '{word}' is a non-German word, translate it to German\n",
    "                                                        - For misspelled input, correct the spelling.\n",
    "\n",
    "                                                        2. Output Format:\n",
    "                                                        {{\n",
    "                                                            \"Word\": \"<The German word>\",\n",
    "                                                            \"Part_of_speech\": \"<noun/verb/etc.>\",\n",
    "                                                            \"Gender\": \"<Der/Die/Das> (for nouns only)\",\n",
    "                                                            \"Plural\": \"<plural form> (for nouns only)\",\n",
    "                                                            \"Meanings\": [\n",
    "                                                                {{\n",
    "                                                                    \"Meaning\": \"<short phrase of distinct meaning - in English>\",\n",
    "                                                                    \"Example\": \"<example in German>\",\n",
    "                                                                    \"Translation\": \"<translation of the example>\"\n",
    "                                                                }},\n",
    "                                                                {{\n",
    "                                                                    \"Meaning\": \"<short phrase of distinct meaning - in English >\",\n",
    "                                                                    \"Example\": \"<example in German>\",\n",
    "                                                                    \"Translation\": \"<translation of the example>\"\n",
    "                                                                }}\n",
    "                                                            ]\n",
    "                                                        }}\n",
    "\n",
    "                                                        3. Notes:\n",
    "                                                        - The meanings should be distinct to avoid repetition.\n",
    "                                                        - Use accurate spelling and grammar.\n",
    "                                                        - Do not include anything except the Output.\n",
    "                                                        \"\"\",\n",
    "        }\n",
    "    ],\n",
    "    model=\"gpt-4o-mini\",\n",
    ")"
   ]
  },
  {
   "cell_type": "code",
   "execution_count": 5,
   "metadata": {},
   "outputs": [
    {
     "name": "stdout",
     "output_type": "stream",
     "text": [
      "{\n",
      "    \"Word\": \"laut\",\n",
      "    \"Part_of_speech\": \"adjective/adverb\",\n",
      "    \"Gender\": null,\n",
      "    \"Plural\": null,\n",
      "    \"Meanings\": [\n",
      "        {\n",
      "            \"Meaning\": \"loud or noisy\",\n",
      "            \"Example\": \"Die Musik ist sehr laut.\",\n",
      "            \"Translation\": \"The music is very loud.\"\n",
      "        },\n",
      "        {\n",
      "            \"Meaning\": \"according to\",\n",
      "            \"Example\": \"Laut dem Berichten ist es wahr.\",\n",
      "            \"Translation\": \"According to the reports, it is true.\"\n",
      "        }\n",
      "    ]\n",
      "}\n"
     ]
    }
   ],
   "source": [
    "response = chat_completion.choices[0].message.content\n",
    "print(response)"
   ]
  },
  {
   "cell_type": "code",
   "execution_count": 6,
   "metadata": {},
   "outputs": [
    {
     "name": "stdout",
     "output_type": "stream",
     "text": [
      "laut\n",
      "loud or noisy\n"
     ]
    }
   ],
   "source": [
    "import json\n",
    "\n",
    "# Parse the JSON string into a Python dictionary\n",
    "data = json.loads(response)\n",
    "\n",
    "# Accessing the parsed data\n",
    "print(data[\"Word\"])  # Output: Buch\n",
    "print(data[\"Meanings\"][0][\"Meaning\"])  # Output: Book"
   ]
  },
  {
   "cell_type": "code",
   "execution_count": null,
   "metadata": {},
   "outputs": [],
   "source": []
  }
 ],
 "metadata": {
  "kernelspec": {
   "display_name": "venv",
   "language": "python",
   "name": "python3"
  },
  "language_info": {
   "codemirror_mode": {
    "name": "ipython",
    "version": 3
   },
   "file_extension": ".py",
   "mimetype": "text/x-python",
   "name": "python",
   "nbconvert_exporter": "python",
   "pygments_lexer": "ipython3",
   "version": "3.9.6"
  }
 },
 "nbformat": 4,
 "nbformat_minor": 2
}
