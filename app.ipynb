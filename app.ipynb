{
 "cells": [
  {
   "cell_type": "code",
   "execution_count": 13,
   "metadata": {},
   "outputs": [],
   "source": [
    "from openai import OpenAI\n",
    "import config  # 导入您的配置文件"
   ]
  },
  {
   "cell_type": "code",
   "execution_count": 14,
   "metadata": {},
   "outputs": [],
   "source": [
    "word = \"laut\""
   ]
  },
  {
   "cell_type": "code",
   "execution_count": 15,
   "metadata": {},
   "outputs": [],
   "source": [
    "client = OpenAI(\n",
    "    api_key=config.OPENAI_API_KEY,  # 这是默认值，可以省略\n",
    ")\n"
   ]
  },
  {
   "cell_type": "code",
   "execution_count": 16,
   "metadata": {},
   "outputs": [],
   "source": [
    "chat_completion = client.chat.completions.create(\n",
    "    messages=[\n",
    "        {\n",
    "            \"role\": \"user\",\n",
    "            \"content\": f\"\"\"Provide a JSON like response for the German word '{word}' if it is a noun, \n",
    "            including its plural, gender, meanings with descriptions, and example sentences. \n",
    "            If the word is not a noun, exclude plural and gender, but still include meanings and examples. \n",
    "            The meanings should be distinct with each other, avoid similar meanings, and example sentences should match the provided meanings respectively. \n",
    "            Here is an example you should output,you dont have to tell me it is a json: \n",
    "            {{\n",
    "                \"Word\": \"Schloss\",\n",
    "                \"Part_of_speech\": \"Noun\",\n",
    "                \"Gender\": \"Das Schloss\",\n",
    "                \"Plural\": \"Schlösser\",\n",
    "                \"Meanings\": [\n",
    "                    {{\n",
    "                        \"Meaning\": \"Castle\",\n",
    "                        \"Description\": \"A large and stately residence, often associated with royalty or nobility.\"\n",
    "                    }},\n",
    "                    {{\n",
    "                        \"Meaning\": \"Lock\",\n",
    "                        \"Description\": \"A device used to secure doors, gates, or containers.\"\n",
    "                    }}\n",
    "                ],\n",
    "                \"Examples\": [\n",
    "                    {{\n",
    "                        \"Sentence\": \"Das Schloss auf dem Hügel ist sehr alt.\",\n",
    "                        \"Translation\": \"The castle on the hill is very old.\"\n",
    "                    }},\n",
    "                    {{\n",
    "                        \"Sentence\": \"Ich habe den Schlüssel für das Schloss verloren.\",\n",
    "                        \"Translation\": \"I lost the key to the lock.\"\n",
    "                    }}\n",
    "                ]\n",
    "            }}\"\"\"\n",
    "        }\n",
    "    ],\n",
    "    model=\"gpt-4o-mini\"\n",
    ")"
   ]
  },
  {
   "cell_type": "code",
   "execution_count": 17,
   "metadata": {},
   "outputs": [
    {
     "name": "stdout",
     "output_type": "stream",
     "text": [
      "{\n",
      "    \"Word\": \"laut\",\n",
      "    \"Part_of_speech\": \"Adjective/Adverb\",\n",
      "    \"Meanings\": [\n",
      "        {\n",
      "            \"Meaning\": \"Loud\",\n",
      "            \"Description\": \"Having a high volume or strong intensity of sound.\"\n",
      "        },\n",
      "        {\n",
      "            \"Meaning\": \"According to\",\n",
      "            \"Description\": \"Used to indicate a source of information or authority.\"\n",
      "        }\n",
      "    ],\n",
      "    \"Examples\": [\n",
      "        {\n",
      "            \"Sentence\": \"Die Musik ist sehr laut.\",\n",
      "            \"Translation\": \"The music is very loud.\"\n",
      "        },\n",
      "        {\n",
      "            \"Sentence\": \"Laut dem Wetterbericht wird es morgen regnen.\",\n",
      "            \"Translation\": \"According to the weather report, it will rain tomorrow.\"\n",
      "        }\n",
      "    ]\n",
      "}\n"
     ]
    }
   ],
   "source": [
    "response = chat_completion.choices[0].message.content\n",
    "print(response)"
   ]
  },
  {
   "cell_type": "code",
   "execution_count": 20,
   "metadata": {},
   "outputs": [
    {
     "name": "stdout",
     "output_type": "stream",
     "text": [
      "laut\n",
      "Loud\n",
      "Die Musik ist sehr laut.\n"
     ]
    }
   ],
   "source": [
    "import json\n",
    "# Parse the JSON string into a Python dictionary\n",
    "data = json.loads(response)\n",
    "\n",
    "# Accessing the parsed data\n",
    "print(data['Word'])  # Output: Buch\n",
    "print(data['Meanings'][0]['Meaning'])  # Output: Book\n",
    "print(data['Examples'][0]['Sentence'])  # Output: Die Bibliothek hat viele alte Bücher."
   ]
  },
  {
   "cell_type": "code",
   "execution_count": null,
   "metadata": {},
   "outputs": [],
   "source": []
  }
 ],
 "metadata": {
  "kernelspec": {
   "display_name": "venv",
   "language": "python",
   "name": "python3"
  },
  "language_info": {
   "codemirror_mode": {
    "name": "ipython",
    "version": 3
   },
   "file_extension": ".py",
   "mimetype": "text/x-python",
   "name": "python",
   "nbconvert_exporter": "python",
   "pygments_lexer": "ipython3",
   "version": "3.9.6"
  }
 },
 "nbformat": 4,
 "nbformat_minor": 2
}
