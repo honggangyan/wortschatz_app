{
 "cells": [
  {
   "cell_type": "code",
   "execution_count": 20,
   "metadata": {},
   "outputs": [],
   "source": [
    "from openai import OpenAI\n",
    "import config  # 导入您的配置文件"
   ]
  },
  {
   "cell_type": "code",
   "execution_count": 21,
   "metadata": {},
   "outputs": [],
   "source": [
    "word = \"laut\""
   ]
  },
  {
   "cell_type": "code",
   "execution_count": 22,
   "metadata": {},
   "outputs": [],
   "source": [
    "client = OpenAI(\n",
    "    api_key=config.OPENAI_API_KEY,  # 这是默认值，可以省略\n",
    ")\n"
   ]
  },
  {
   "cell_type": "code",
   "execution_count": 28,
   "metadata": {},
   "outputs": [],
   "source": [
    "chat_completion = client.chat.completions.create(\n",
    "    messages=[\n",
    "        {\n",
    "            \"role\": \"user\",\n",
    "            \"content\": f\"\"\"You are an expert in teaching German vocabulary. Provide a JSON-like explanation of the '{word}' using these rules:\n",
    "1. Input Handling:\n",
    "   - For non-German words, include meanings and translations in the input language.\n",
    "   - For misspelled German words, correct the spelling.\n",
    "\n",
    "2. Output Format:\n",
    "   {{\n",
    "       \"Word\": \"<word>\",\n",
    "       \"Part_of_speech\": \"<noun/verb/etc.>\",\n",
    "       \"Gender\": \"<Der/Die/Das> (for nouns only)\",\n",
    "       \"Plural\": \"<plural form> (for nouns only)\",\n",
    "       \"Meanings\": [\n",
    "           {{\n",
    "               \"Meaning\": \"<distinct meaning>\",\n",
    "               \"Example\": \"<German example>\",\n",
    "               \"Translation\": \"<example translation in input language>\"\n",
    "           }},\n",
    "           {{\n",
    "               \"Meaning\": \"<distinct meaning>\",\n",
    "               \"Example\": \"<German example>\",\n",
    "               \"Translation\": \"<example translation in input language>\"\n",
    "           }}\n",
    "       ]\n",
    "   }}\n",
    "\n",
    "3. Notes:\n",
    "   - Include distinct, concise meanings with examples for each.\n",
    "   - Use accurate spelling and grammar.\n",
    "   - Exclude \"Gender\" and \"Plural\" for non-nouns.\n",
    "   - Do not include any thing except the Output.\n",
    "\"\"\"\n",
    "        }\n",
    "    ],\n",
    "    model=\"gpt-4o-mini\"\n",
    ")"
   ]
  },
  {
   "cell_type": "code",
   "execution_count": 29,
   "metadata": {},
   "outputs": [
    {
     "name": "stdout",
     "output_type": "stream",
     "text": [
      "{\n",
      "    \"Word\": \"laut\",\n",
      "    \"Part_of_speech\": \"adjective/adverb\",\n",
      "    \"Meanings\": [\n",
      "        {\n",
      "            \"Meaning\": \"loud\",\n",
      "            \"Example\": \"Die Musik ist zu laut.\",\n",
      "            \"Translation\": \"The music is too loud.\"\n",
      "        },\n",
      "        {\n",
      "            \"Meaning\": \"clearly\",\n",
      "            \"Example\": \"Sprich laut und deutlich.\",\n",
      "            \"Translation\": \"Speak clearly and distinctly.\"\n",
      "        }\n",
      "    ]\n",
      "}\n"
     ]
    }
   ],
   "source": [
    "response = chat_completion.choices[0].message.content\n",
    "print(response)"
   ]
  },
  {
   "cell_type": "code",
   "execution_count": 32,
   "metadata": {},
   "outputs": [
    {
     "name": "stdout",
     "output_type": "stream",
     "text": [
      "laut\n",
      "loud\n"
     ]
    }
   ],
   "source": [
    "import json\n",
    "# Parse the JSON string into a Python dictionary\n",
    "data = json.loads(response)\n",
    "\n",
    "# Accessing the parsed data\n",
    "print(data['Word'])  # Output: Buch\n",
    "print(data['Meanings'][0]['Meaning'])  # Output: Book"
   ]
  },
  {
   "cell_type": "code",
   "execution_count": null,
   "metadata": {},
   "outputs": [],
   "source": []
  }
 ],
 "metadata": {
  "kernelspec": {
   "display_name": "venv",
   "language": "python",
   "name": "python3"
  },
  "language_info": {
   "codemirror_mode": {
    "name": "ipython",
    "version": 3
   },
   "file_extension": ".py",
   "mimetype": "text/x-python",
   "name": "python",
   "nbconvert_exporter": "python",
   "pygments_lexer": "ipython3",
   "version": "3.9.6"
  }
 },
 "nbformat": 4,
 "nbformat_minor": 2
}
